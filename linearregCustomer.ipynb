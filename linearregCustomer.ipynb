{
 "cells": [
  {
   "cell_type": "code",
   "execution_count": 3,
   "metadata": {},
   "outputs": [
    {
     "name": "stdout",
     "output_type": "stream",
     "text": [
      "0    3198.81\n",
      "1    2188.44\n",
      "2    5291.76\n",
      "3    5523.26\n",
      "4    6954.07\n",
      "5    2033.13\n",
      "6    7683.49\n",
      "7    4624.82\n",
      "8    7895.03\n",
      "9    7308.51\n",
      "Name: score, dtype: float64\n",
      "Weights: [ 1.00000050e+01  9.99946251e-04 -4.64087945e-08 -3.51841280e-07\n",
      " -1.00000722e+01  1.52684035e-04  8.41301856e-05 -6.86636737e-06\n",
      " -8.35186882e-05]\n",
      "Intercept: 0.01265064380277181\n"
     ]
    }
   ],
   "source": [
    "import pandas as pd\n",
    "from sklearn.linear_model import LinearRegression\n",
    "\n",
    "from sqlalchemy import create_engine\n",
    "\n",
    "# Replace these variables with your PostgreSQL connection details\n",
    "db_host = \"localhost\"\n",
    "db_port = 5432\n",
    "db_name = \"postgres\"\n",
    "db_user = \"postgres\"\n",
    "db_password = \"postgres\"\n",
    "\n",
    "# Create an SQLAlchemy engine\n",
    "engine = create_engine(f'postgresql://{db_user}:{db_password}@{db_host}:{db_port}/{db_name}')\n",
    "\n",
    "# Query data from the database using SQLAlchemy engine\n",
    "# Define the table names\n",
    "customer_bureau_table = 'customer_bureau_details'\n",
    "company_table = 'company_table'\n",
    "\n",
    "# Query data from both tables using a JOIN operation\n",
    "query = f\"\"\"\n",
    "    SELECT\n",
    "        cb.credit_score,\n",
    "        cb.salary_amt,\n",
    "        cb.total_txn_amt,\n",
    "        cb.total_refund_amt,\n",
    "        cb.dfd_count,\n",
    "        cb.npa_count,\n",
    "        cb.vas_count,\n",
    "        cb.instacred_score,\n",
    "        cb.score,\n",
    "        c.company_score\n",
    "    FROM {customer_bureau_table} cb\n",
    "    JOIN {company_table} c ON cb.company_id = c.company_id\n",
    "\"\"\"\n",
    "df = pd.read_sql_query(query, engine)\n",
    "\n",
    "\n",
    "# Extract features (independent variables) and target variable\n",
    "X_train =df[['credit_score', 'salary_amt', 'total_txn_amt', 'total_refund_amt',\n",
    "          'dfd_count', 'npa_count', 'vas_count', 'instacred_score', 'company_score']]\n",
    "y_train = df['score']\n",
    "\n",
    "print(y_train)\n",
    "\n",
    "# Create and train a linear regression model\n",
    "model = LinearRegression()\n",
    "model.fit(X_train, y_train)\n",
    "\n",
    "# Print the learned weights and intercept\n",
    "weights = model.coef_\n",
    "intercept = model.intercept_\n",
    "\n",
    "print(f\"Weights: {weights}\")\n",
    "print(f\"Intercept: {intercept}\")\n"
   ]
  },
  {
   "cell_type": "code",
   "execution_count": 5,
   "metadata": {},
   "outputs": [],
   "source": [
    "X_test =df[['credit_score', 'salary_amt', 'total_txn_amt', 'total_refund_amt',\n",
    "          'dfd_count', 'npa_count', 'vas_count', 'instacred_score', 'company_score']]\n",
    "predicted_scores = model.predict(X_test)"
   ]
  },
  {
   "cell_type": "code",
   "execution_count": 6,
   "metadata": {},
   "outputs": [
    {
     "data": {
      "text/plain": [
       "array([3198.81, 2188.44, 5291.76, 5523.26, 6954.07, 2033.13, 7683.49,\n",
       "       4624.82, 7895.03, 7308.51])"
      ]
     },
     "execution_count": 6,
     "metadata": {},
     "output_type": "execute_result"
    }
   ],
   "source": [
    "predicted_scores"
   ]
  },
  {
   "cell_type": "code",
   "execution_count": 9,
   "metadata": {},
   "outputs": [],
   "source": [
    "table_name='customer_bureau_details'\n",
    "df['predicted_scores'] = predicted_scores\n",
    "df.to_sql(table_name, engine, index=False, if_exists='replace')\n",
    "\n",
    "# Commit changes\n",
    "engine.dispose()"
   ]
  },
  {
   "cell_type": "markdown",
   "metadata": {},
   "source": [
    "storing the model"
   ]
  },
  {
   "cell_type": "code",
   "execution_count": 10,
   "metadata": {},
   "outputs": [
    {
     "data": {
      "text/plain": [
       "['linear_regr_model_customer.joblib']"
      ]
     },
     "execution_count": 10,
     "metadata": {},
     "output_type": "execute_result"
    }
   ],
   "source": [
    "import joblib\n",
    "\n",
    "# Save the trained model to a file\n",
    "joblib.dump(model, 'linear_regr_model_customer.joblib')\n"
   ]
  },
  {
   "cell_type": "markdown",
   "metadata": {},
   "source": [
    "loading the model"
   ]
  },
  {
   "cell_type": "code",
   "execution_count": 11,
   "metadata": {},
   "outputs": [],
   "source": [
    "import joblib\n",
    "\n",
    "# Load the trained model from the file\n",
    "model = joblib.load('linear_regr_model_customer.joblib')\n"
   ]
  },
  {
   "cell_type": "code",
   "execution_count": 12,
   "metadata": {},
   "outputs": [],
   "source": [
    "# Assuming X_production is your new dataset in production\n",
    "predicted_scores_production = model.predict(X_test)"
   ]
  },
  {
   "cell_type": "code",
   "execution_count": 13,
   "metadata": {},
   "outputs": [
    {
     "name": "stdout",
     "output_type": "stream",
     "text": [
      "[3198.81 2188.44 5291.76 5523.26 6954.07 2033.13 7683.49 4624.82 7895.03\n",
      " 7308.51]\n"
     ]
    }
   ],
   "source": [
    "print(predicted_scores)"
   ]
  },
  {
   "cell_type": "markdown",
   "metadata": {},
   "source": [
    "Incremental training of the model based on feedback"
   ]
  },
  {
   "cell_type": "code",
   "execution_count": null,
   "metadata": {},
   "outputs": [],
   "source": [
    "# Update existing model with new data incrementally\n",
    "existing_model = joblib.load('linear_regr_model_customer.joblib')\n",
    "\n",
    "for new_data_batch in new_data_batches:\n",
    "    X_train =df[['credit_score', 'salary_amt', 'total_txn_amt', 'total_refund_amt',\n",
    "          'dfd_count', 'npa_count', 'vas_count', 'instacred_score'], 'company_score']\n",
    "    y_train = df['score']\n",
    "    existing_model.partial_fit(X_train, y_train)\n",
    "\n",
    "#saving the model\n",
    "joblib.dump(existing_model, 'updated_linear_reg_model_customer.joblib')"
   ]
  }
 ],
 "metadata": {
  "kernelspec": {
   "display_name": "Python 3",
   "language": "python",
   "name": "python3"
  },
  "language_info": {
   "codemirror_mode": {
    "name": "ipython",
    "version": 3
   },
   "file_extension": ".py",
   "mimetype": "text/x-python",
   "name": "python",
   "nbconvert_exporter": "python",
   "pygments_lexer": "ipython3",
   "version": "3.11.3"
  }
 },
 "nbformat": 4,
 "nbformat_minor": 2
}
